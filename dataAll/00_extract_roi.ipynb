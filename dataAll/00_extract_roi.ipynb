{
 "cells": [
  {
   "cell_type": "markdown",
   "metadata": {},
   "source": [
    "Extract Roi from AAL3"
   ]
  },
  {
   "cell_type": "code",
   "execution_count": null,
   "metadata": {},
   "outputs": [],
   "source": [
    "import nibabel as nib\n",
    "import numpy as np\n",
    "import nilearn.plotting as plotting\n",
    "import matplotlib.pyplot as plt\n",
    "\n",
    "# Load \n",
    "aal_img = nib.load(\"AAL3/AAL3v1_1mm.nii\"  )\n",
    "aal_data = aal_img.get_fdata()\n",
    "\n",
    "with open(\"AAL3/AAL3v1_1mm.nii.txt\" , \"r\") as f:\n",
    "    aal_labels = [line.strip() for line in f.readlines()]\n",
    "aal_labels = [label.split(' ')[:2] for label in aal_labels ]\n",
    "\n",
    "aal_labels_dict = {}\n",
    "\n",
    "for label in aal_labels:\n",
    "    aal_labels_dict[label[1]] = label[0] "
   ]
  },
  {
   "cell_type": "code",
   "execution_count": null,
   "metadata": {},
   "outputs": [
    {
     "name": "stdout",
     "output_type": "stream",
     "text": [
      "[0 1]\n",
      "[0 1]\n",
      "[0 1]\n",
      "[0 1]\n",
      "[0 1]\n",
      "[0 1]\n",
      "[0 1]\n"
     ]
    }
   ],
   "source": [
    "# extract label of interest \n",
    "roiNames = ['CerebellumLobVII', 'IFGOpL', 'IFGOpR', 'MFGL_dlPFCmPFC', 'MFGR_dlPFCmPFC', 'PrecuneusL', 'PrecuneusR', 'STGL', 'STGR', 'TemporalPoleL','TemporalPoleR']\n",
    "\n",
    "side = '_L'\n",
    "\n",
    "roiNames = ['Cerebellum_7b', 'Frontal_Inf_Oper', 'Frontal_Mid_2', 'Precuneus','Temporal_Sup', 'Temporal_Pole_Sup', 'Temporal_Pole_Mid']\n",
    "\n",
    "for roi in roiNames :    \n",
    "    roi_index = int(aal_labels_dict[roi + side])\n",
    "\n",
    "    # binary mask\n",
    "    roi_mask = aal_data == roi_index\n",
    "\n",
    "    # Save\n",
    "    output_path = f'ROIs_mask/{roi + side}.nii'\n",
    "\n",
    "    roi_nifti = nib.Nifti1Image(roi_mask.astype(np.uint8), affine=aal_img.affine)\n",
    "    # Sanity check \n",
    "    #print(np.unique(roi_nifti.dataobj))\n",
    "\n",
    "\n",
    "    nib.save(roi_nifti, output_path)\n",
    "\n",
    "\n"
   ]
  }
 ],
 "metadata": {
  "kernelspec": {
   "display_name": "imaging",
   "language": "python",
   "name": "python3"
  },
  "language_info": {
   "codemirror_mode": {
    "name": "ipython",
    "version": 3
   },
   "file_extension": ".py",
   "mimetype": "text/x-python",
   "name": "python",
   "nbconvert_exporter": "python",
   "pygments_lexer": "ipython3",
   "version": "3.12.2"
  }
 },
 "nbformat": 4,
 "nbformat_minor": 2
}
